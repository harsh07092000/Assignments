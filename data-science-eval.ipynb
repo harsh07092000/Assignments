{
 "cells": [
  {
   "cell_type": "code",
   "execution_count": 1,
   "id": "f331523d",
   "metadata": {
    "_cell_guid": "b1076dfc-b9ad-4769-8c92-a6c4dae69d19",
    "_uuid": "8f2839f25d086af736a60e9eeb907d3b93b6e0e5",
    "execution": {
     "iopub.execute_input": "2022-03-16T18:12:22.234482Z",
     "iopub.status.busy": "2022-03-16T18:12:22.233003Z",
     "iopub.status.idle": "2022-03-16T18:12:22.250174Z",
     "shell.execute_reply": "2022-03-16T18:12:22.250743Z",
     "shell.execute_reply.started": "2022-03-16T18:10:48.346183Z"
    },
    "papermill": {
     "duration": 0.055833,
     "end_time": "2022-03-16T18:12:22.251026",
     "exception": false,
     "start_time": "2022-03-16T18:12:22.195193",
     "status": "completed"
    },
    "tags": []
   },
   "outputs": [
    {
     "name": "stdout",
     "output_type": "stream",
     "text": [
      "/kaggle/input/dataset/sample_submission.csv\n",
      "/kaggle/input/dataset/train.csv\n",
      "/kaggle/input/dataset/test.csv\n"
     ]
    }
   ],
   "source": [
    "# This Python 3 environment comes with many helpful analytics libraries installed\n",
    "# It is defined by the kaggle/python Docker image: https://github.com/kaggle/docker-python\n",
    "# For example, here's several helpful packages to load\n",
    "\n",
    "import numpy as np # linear algebra\n",
    "import pandas as pd # data processing, CSV file I/O (e.g. pd.read_csv)\n",
    "\n",
    "# Input data files are available in the read-only \"../input/\" directory\n",
    "# For example, running this (by clicking run or pressing Shift+Enter) will list all files under the input directory\n",
    "\n",
    "import os\n",
    "for dirname, _, filenames in os.walk('/kaggle/input'):\n",
    "    for filename in filenames:\n",
    "        print(os.path.join(dirname, filename))\n",
    "\n",
    "# You can write up to 20GB to the current directory (/kaggle/working/) that gets preserved as output when you create a version using \"Save & Run All\" \n",
    "# You can also write temporary files to /kaggle/temp/, but they won't be saved outside of the current session"
   ]
  },
  {
   "cell_type": "code",
   "execution_count": 2,
   "id": "fdb6994b",
   "metadata": {
    "execution": {
     "iopub.execute_input": "2022-03-16T18:12:22.324794Z",
     "iopub.status.busy": "2022-03-16T18:12:22.324135Z",
     "iopub.status.idle": "2022-03-16T18:12:23.755764Z",
     "shell.execute_reply": "2022-03-16T18:12:23.757184Z",
     "shell.execute_reply.started": "2022-03-16T18:10:48.360312Z"
    },
    "papermill": {
     "duration": 1.470279,
     "end_time": "2022-03-16T18:12:23.757416",
     "exception": false,
     "start_time": "2022-03-16T18:12:22.287137",
     "status": "completed"
    },
    "tags": []
   },
   "outputs": [],
   "source": [
    "#importing essential libaries\n",
    "import numpy as np\n",
    "import pandas as pd\n",
    "import re\n",
    "import string\n",
    "import matplotlib.pyplot as plt\n",
    "from nltk.corpus import stopwords\n",
    "from nltk.stem import WordNetLemmatizer\n",
    "from sklearn import feature_extraction, linear_model, model_selection, naive_bayes, ensemble"
   ]
  },
  {
   "cell_type": "code",
   "execution_count": 3,
   "id": "246ca2e3",
   "metadata": {
    "execution": {
     "iopub.execute_input": "2022-03-16T18:12:23.857239Z",
     "iopub.status.busy": "2022-03-16T18:12:23.856595Z",
     "iopub.status.idle": "2022-03-16T18:12:23.921855Z",
     "shell.execute_reply": "2022-03-16T18:12:23.922347Z",
     "shell.execute_reply.started": "2022-03-16T18:10:48.370237Z"
    },
    "papermill": {
     "duration": 0.103463,
     "end_time": "2022-03-16T18:12:23.922501",
     "exception": false,
     "start_time": "2022-03-16T18:12:23.819038",
     "status": "completed"
    },
    "tags": []
   },
   "outputs": [],
   "source": [
    "#loading data\n",
    "train_df = pd.read_csv('../input/dataset/train.csv')\n",
    "test_df = pd.read_csv('../input/dataset/test.csv')"
   ]
  },
  {
   "cell_type": "code",
   "execution_count": 4,
   "id": "7e18ecdd",
   "metadata": {
    "execution": {
     "iopub.execute_input": "2022-03-16T18:12:24.002266Z",
     "iopub.status.busy": "2022-03-16T18:12:24.001412Z",
     "iopub.status.idle": "2022-03-16T18:12:24.011213Z",
     "shell.execute_reply": "2022-03-16T18:12:24.011627Z",
     "shell.execute_reply.started": "2022-03-16T18:10:48.413886Z"
    },
    "papermill": {
     "duration": 0.05311,
     "end_time": "2022-03-16T18:12:24.011756",
     "exception": false,
     "start_time": "2022-03-16T18:12:23.958646",
     "status": "completed"
    },
    "tags": []
   },
   "outputs": [
    {
     "data": {
      "text/plain": [
       "<bound method DataFrame.info of          id keyword location  \\\n",
       "0         1     NaN      NaN   \n",
       "1         4     NaN      NaN   \n",
       "2         5     NaN      NaN   \n",
       "3         6     NaN      NaN   \n",
       "4         7     NaN      NaN   \n",
       "...     ...     ...      ...   \n",
       "7608  10869     NaN      NaN   \n",
       "7609  10870     NaN      NaN   \n",
       "7610  10871     NaN      NaN   \n",
       "7611  10872     NaN      NaN   \n",
       "7612  10873     NaN      NaN   \n",
       "\n",
       "                                                   text  target  \n",
       "0     Our Deeds are the Reason of this #earthquake M...       1  \n",
       "1                Forest fire near La Ronge Sask. Canada       1  \n",
       "2     All residents asked to 'shelter in place' are ...       1  \n",
       "3     13,000 people receive #wildfires evacuation or...       1  \n",
       "4     Just got sent this photo from Ruby #Alaska as ...       1  \n",
       "...                                                 ...     ...  \n",
       "7608  Two giant cranes holding a bridge collapse int...       1  \n",
       "7609  @aria_ahrary @TheTawniest The out of control w...       1  \n",
       "7610  M1.94 [01:04 UTC]?5km S of Volcano Hawaii. htt...       1  \n",
       "7611  Police investigating after an e-bike collided ...       1  \n",
       "7612  The Latest: More Homes Razed by Northern Calif...       1  \n",
       "\n",
       "[7613 rows x 5 columns]>"
      ]
     },
     "execution_count": 4,
     "metadata": {},
     "output_type": "execute_result"
    }
   ],
   "source": [
    "#reading information of training dataset\n",
    "train_df.info"
   ]
  },
  {
   "cell_type": "code",
   "execution_count": 5,
   "id": "a96e2300",
   "metadata": {
    "execution": {
     "iopub.execute_input": "2022-03-16T18:12:24.085645Z",
     "iopub.status.busy": "2022-03-16T18:12:24.084844Z",
     "iopub.status.idle": "2022-03-16T18:12:24.095998Z",
     "shell.execute_reply": "2022-03-16T18:12:24.096402Z",
     "shell.execute_reply.started": "2022-03-16T18:10:48.431069Z"
    },
    "papermill": {
     "duration": 0.050144,
     "end_time": "2022-03-16T18:12:24.096529",
     "exception": false,
     "start_time": "2022-03-16T18:12:24.046385",
     "status": "completed"
    },
    "tags": []
   },
   "outputs": [
    {
     "data": {
      "text/html": [
       "<div>\n",
       "<style scoped>\n",
       "    .dataframe tbody tr th:only-of-type {\n",
       "        vertical-align: middle;\n",
       "    }\n",
       "\n",
       "    .dataframe tbody tr th {\n",
       "        vertical-align: top;\n",
       "    }\n",
       "\n",
       "    .dataframe thead th {\n",
       "        text-align: right;\n",
       "    }\n",
       "</style>\n",
       "<table border=\"1\" class=\"dataframe\">\n",
       "  <thead>\n",
       "    <tr style=\"text-align: right;\">\n",
       "      <th></th>\n",
       "      <th>id</th>\n",
       "      <th>keyword</th>\n",
       "      <th>location</th>\n",
       "      <th>text</th>\n",
       "      <th>target</th>\n",
       "    </tr>\n",
       "  </thead>\n",
       "  <tbody>\n",
       "    <tr>\n",
       "      <th>0</th>\n",
       "      <td>1</td>\n",
       "      <td>NaN</td>\n",
       "      <td>NaN</td>\n",
       "      <td>Our Deeds are the Reason of this #earthquake M...</td>\n",
       "      <td>1</td>\n",
       "    </tr>\n",
       "    <tr>\n",
       "      <th>1</th>\n",
       "      <td>4</td>\n",
       "      <td>NaN</td>\n",
       "      <td>NaN</td>\n",
       "      <td>Forest fire near La Ronge Sask. Canada</td>\n",
       "      <td>1</td>\n",
       "    </tr>\n",
       "    <tr>\n",
       "      <th>2</th>\n",
       "      <td>5</td>\n",
       "      <td>NaN</td>\n",
       "      <td>NaN</td>\n",
       "      <td>All residents asked to 'shelter in place' are ...</td>\n",
       "      <td>1</td>\n",
       "    </tr>\n",
       "    <tr>\n",
       "      <th>3</th>\n",
       "      <td>6</td>\n",
       "      <td>NaN</td>\n",
       "      <td>NaN</td>\n",
       "      <td>13,000 people receive #wildfires evacuation or...</td>\n",
       "      <td>1</td>\n",
       "    </tr>\n",
       "    <tr>\n",
       "      <th>4</th>\n",
       "      <td>7</td>\n",
       "      <td>NaN</td>\n",
       "      <td>NaN</td>\n",
       "      <td>Just got sent this photo from Ruby #Alaska as ...</td>\n",
       "      <td>1</td>\n",
       "    </tr>\n",
       "    <tr>\n",
       "      <th>...</th>\n",
       "      <td>...</td>\n",
       "      <td>...</td>\n",
       "      <td>...</td>\n",
       "      <td>...</td>\n",
       "      <td>...</td>\n",
       "    </tr>\n",
       "    <tr>\n",
       "      <th>7608</th>\n",
       "      <td>10869</td>\n",
       "      <td>NaN</td>\n",
       "      <td>NaN</td>\n",
       "      <td>Two giant cranes holding a bridge collapse int...</td>\n",
       "      <td>1</td>\n",
       "    </tr>\n",
       "    <tr>\n",
       "      <th>7609</th>\n",
       "      <td>10870</td>\n",
       "      <td>NaN</td>\n",
       "      <td>NaN</td>\n",
       "      <td>@aria_ahrary @TheTawniest The out of control w...</td>\n",
       "      <td>1</td>\n",
       "    </tr>\n",
       "    <tr>\n",
       "      <th>7610</th>\n",
       "      <td>10871</td>\n",
       "      <td>NaN</td>\n",
       "      <td>NaN</td>\n",
       "      <td>M1.94 [01:04 UTC]?5km S of Volcano Hawaii. htt...</td>\n",
       "      <td>1</td>\n",
       "    </tr>\n",
       "    <tr>\n",
       "      <th>7611</th>\n",
       "      <td>10872</td>\n",
       "      <td>NaN</td>\n",
       "      <td>NaN</td>\n",
       "      <td>Police investigating after an e-bike collided ...</td>\n",
       "      <td>1</td>\n",
       "    </tr>\n",
       "    <tr>\n",
       "      <th>7612</th>\n",
       "      <td>10873</td>\n",
       "      <td>NaN</td>\n",
       "      <td>NaN</td>\n",
       "      <td>The Latest: More Homes Razed by Northern Calif...</td>\n",
       "      <td>1</td>\n",
       "    </tr>\n",
       "  </tbody>\n",
       "</table>\n",
       "<p>7613 rows × 5 columns</p>\n",
       "</div>"
      ],
      "text/plain": [
       "         id keyword location  \\\n",
       "0         1     NaN      NaN   \n",
       "1         4     NaN      NaN   \n",
       "2         5     NaN      NaN   \n",
       "3         6     NaN      NaN   \n",
       "4         7     NaN      NaN   \n",
       "...     ...     ...      ...   \n",
       "7608  10869     NaN      NaN   \n",
       "7609  10870     NaN      NaN   \n",
       "7610  10871     NaN      NaN   \n",
       "7611  10872     NaN      NaN   \n",
       "7612  10873     NaN      NaN   \n",
       "\n",
       "                                                   text  target  \n",
       "0     Our Deeds are the Reason of this #earthquake M...       1  \n",
       "1                Forest fire near La Ronge Sask. Canada       1  \n",
       "2     All residents asked to 'shelter in place' are ...       1  \n",
       "3     13,000 people receive #wildfires evacuation or...       1  \n",
       "4     Just got sent this photo from Ruby #Alaska as ...       1  \n",
       "...                                                 ...     ...  \n",
       "7608  Two giant cranes holding a bridge collapse int...       1  \n",
       "7609  @aria_ahrary @TheTawniest The out of control w...       1  \n",
       "7610  M1.94 [01:04 UTC]?5km S of Volcano Hawaii. htt...       1  \n",
       "7611  Police investigating after an e-bike collided ...       1  \n",
       "7612  The Latest: More Homes Razed by Northern Calif...       1  \n",
       "\n",
       "[7613 rows x 5 columns]"
      ]
     },
     "execution_count": 5,
     "metadata": {},
     "output_type": "execute_result"
    }
   ],
   "source": [
    "train_df"
   ]
  },
  {
   "cell_type": "code",
   "execution_count": 6,
   "id": "35230576",
   "metadata": {
    "execution": {
     "iopub.execute_input": "2022-03-16T18:12:24.169133Z",
     "iopub.status.busy": "2022-03-16T18:12:24.168325Z",
     "iopub.status.idle": "2022-03-16T18:12:24.175151Z",
     "shell.execute_reply": "2022-03-16T18:12:24.174702Z",
     "shell.execute_reply.started": "2022-03-16T18:10:48.452605Z"
    },
    "papermill": {
     "duration": 0.044383,
     "end_time": "2022-03-16T18:12:24.175258",
     "exception": false,
     "start_time": "2022-03-16T18:12:24.130875",
     "status": "completed"
    },
    "tags": []
   },
   "outputs": [
    {
     "data": {
      "text/plain": [
       "<bound method DataFrame.info of          id keyword location  \\\n",
       "0         0     NaN      NaN   \n",
       "1         2     NaN      NaN   \n",
       "2         3     NaN      NaN   \n",
       "3         9     NaN      NaN   \n",
       "4        11     NaN      NaN   \n",
       "...     ...     ...      ...   \n",
       "3258  10861     NaN      NaN   \n",
       "3259  10865     NaN      NaN   \n",
       "3260  10868     NaN      NaN   \n",
       "3261  10874     NaN      NaN   \n",
       "3262  10875     NaN      NaN   \n",
       "\n",
       "                                                   text  \n",
       "0                    Just happened a terrible car crash  \n",
       "1     Heard about #earthquake is different cities, s...  \n",
       "2     there is a forest fire at spot pond, geese are...  \n",
       "3              Apocalypse lighting. #Spokane #wildfires  \n",
       "4         Typhoon Soudelor kills 28 in China and Taiwan  \n",
       "...                                                 ...  \n",
       "3258  EARTHQUAKE SAFETY LOS ANGELES ÛÒ SAFETY FASTE...  \n",
       "3259  Storm in RI worse than last hurricane. My city...  \n",
       "3260  Green Line derailment in Chicago http://t.co/U...  \n",
       "3261  MEG issues Hazardous Weather Outlook (HWO) htt...  \n",
       "3262  #CityofCalgary has activated its Municipal Eme...  \n",
       "\n",
       "[3263 rows x 4 columns]>"
      ]
     },
     "execution_count": 6,
     "metadata": {},
     "output_type": "execute_result"
    }
   ],
   "source": [
    "#reading information of testing dataset\n",
    "test_df.info"
   ]
  },
  {
   "cell_type": "code",
   "execution_count": 7,
   "id": "0d4f1677",
   "metadata": {
    "execution": {
     "iopub.execute_input": "2022-03-16T18:12:24.247934Z",
     "iopub.status.busy": "2022-03-16T18:12:24.247139Z",
     "iopub.status.idle": "2022-03-16T18:12:24.256167Z",
     "shell.execute_reply": "2022-03-16T18:12:24.256574Z",
     "shell.execute_reply.started": "2022-03-16T18:10:48.468806Z"
    },
    "papermill": {
     "duration": 0.047086,
     "end_time": "2022-03-16T18:12:24.256692",
     "exception": false,
     "start_time": "2022-03-16T18:12:24.209606",
     "status": "completed"
    },
    "tags": []
   },
   "outputs": [
    {
     "data": {
      "text/html": [
       "<div>\n",
       "<style scoped>\n",
       "    .dataframe tbody tr th:only-of-type {\n",
       "        vertical-align: middle;\n",
       "    }\n",
       "\n",
       "    .dataframe tbody tr th {\n",
       "        vertical-align: top;\n",
       "    }\n",
       "\n",
       "    .dataframe thead th {\n",
       "        text-align: right;\n",
       "    }\n",
       "</style>\n",
       "<table border=\"1\" class=\"dataframe\">\n",
       "  <thead>\n",
       "    <tr style=\"text-align: right;\">\n",
       "      <th></th>\n",
       "      <th>id</th>\n",
       "      <th>keyword</th>\n",
       "      <th>location</th>\n",
       "      <th>text</th>\n",
       "    </tr>\n",
       "  </thead>\n",
       "  <tbody>\n",
       "    <tr>\n",
       "      <th>0</th>\n",
       "      <td>0</td>\n",
       "      <td>NaN</td>\n",
       "      <td>NaN</td>\n",
       "      <td>Just happened a terrible car crash</td>\n",
       "    </tr>\n",
       "    <tr>\n",
       "      <th>1</th>\n",
       "      <td>2</td>\n",
       "      <td>NaN</td>\n",
       "      <td>NaN</td>\n",
       "      <td>Heard about #earthquake is different cities, s...</td>\n",
       "    </tr>\n",
       "    <tr>\n",
       "      <th>2</th>\n",
       "      <td>3</td>\n",
       "      <td>NaN</td>\n",
       "      <td>NaN</td>\n",
       "      <td>there is a forest fire at spot pond, geese are...</td>\n",
       "    </tr>\n",
       "    <tr>\n",
       "      <th>3</th>\n",
       "      <td>9</td>\n",
       "      <td>NaN</td>\n",
       "      <td>NaN</td>\n",
       "      <td>Apocalypse lighting. #Spokane #wildfires</td>\n",
       "    </tr>\n",
       "    <tr>\n",
       "      <th>4</th>\n",
       "      <td>11</td>\n",
       "      <td>NaN</td>\n",
       "      <td>NaN</td>\n",
       "      <td>Typhoon Soudelor kills 28 in China and Taiwan</td>\n",
       "    </tr>\n",
       "    <tr>\n",
       "      <th>...</th>\n",
       "      <td>...</td>\n",
       "      <td>...</td>\n",
       "      <td>...</td>\n",
       "      <td>...</td>\n",
       "    </tr>\n",
       "    <tr>\n",
       "      <th>3258</th>\n",
       "      <td>10861</td>\n",
       "      <td>NaN</td>\n",
       "      <td>NaN</td>\n",
       "      <td>EARTHQUAKE SAFETY LOS ANGELES ÛÒ SAFETY FASTE...</td>\n",
       "    </tr>\n",
       "    <tr>\n",
       "      <th>3259</th>\n",
       "      <td>10865</td>\n",
       "      <td>NaN</td>\n",
       "      <td>NaN</td>\n",
       "      <td>Storm in RI worse than last hurricane. My city...</td>\n",
       "    </tr>\n",
       "    <tr>\n",
       "      <th>3260</th>\n",
       "      <td>10868</td>\n",
       "      <td>NaN</td>\n",
       "      <td>NaN</td>\n",
       "      <td>Green Line derailment in Chicago http://t.co/U...</td>\n",
       "    </tr>\n",
       "    <tr>\n",
       "      <th>3261</th>\n",
       "      <td>10874</td>\n",
       "      <td>NaN</td>\n",
       "      <td>NaN</td>\n",
       "      <td>MEG issues Hazardous Weather Outlook (HWO) htt...</td>\n",
       "    </tr>\n",
       "    <tr>\n",
       "      <th>3262</th>\n",
       "      <td>10875</td>\n",
       "      <td>NaN</td>\n",
       "      <td>NaN</td>\n",
       "      <td>#CityofCalgary has activated its Municipal Eme...</td>\n",
       "    </tr>\n",
       "  </tbody>\n",
       "</table>\n",
       "<p>3263 rows × 4 columns</p>\n",
       "</div>"
      ],
      "text/plain": [
       "         id keyword location  \\\n",
       "0         0     NaN      NaN   \n",
       "1         2     NaN      NaN   \n",
       "2         3     NaN      NaN   \n",
       "3         9     NaN      NaN   \n",
       "4        11     NaN      NaN   \n",
       "...     ...     ...      ...   \n",
       "3258  10861     NaN      NaN   \n",
       "3259  10865     NaN      NaN   \n",
       "3260  10868     NaN      NaN   \n",
       "3261  10874     NaN      NaN   \n",
       "3262  10875     NaN      NaN   \n",
       "\n",
       "                                                   text  \n",
       "0                    Just happened a terrible car crash  \n",
       "1     Heard about #earthquake is different cities, s...  \n",
       "2     there is a forest fire at spot pond, geese are...  \n",
       "3              Apocalypse lighting. #Spokane #wildfires  \n",
       "4         Typhoon Soudelor kills 28 in China and Taiwan  \n",
       "...                                                 ...  \n",
       "3258  EARTHQUAKE SAFETY LOS ANGELES ÛÒ SAFETY FASTE...  \n",
       "3259  Storm in RI worse than last hurricane. My city...  \n",
       "3260  Green Line derailment in Chicago http://t.co/U...  \n",
       "3261  MEG issues Hazardous Weather Outlook (HWO) htt...  \n",
       "3262  #CityofCalgary has activated its Municipal Eme...  \n",
       "\n",
       "[3263 rows x 4 columns]"
      ]
     },
     "execution_count": 7,
     "metadata": {},
     "output_type": "execute_result"
    }
   ],
   "source": [
    "test_df"
   ]
  },
  {
   "cell_type": "code",
   "execution_count": 8,
   "id": "1a48acda",
   "metadata": {
    "execution": {
     "iopub.execute_input": "2022-03-16T18:12:24.330466Z",
     "iopub.status.busy": "2022-03-16T18:12:24.329753Z",
     "iopub.status.idle": "2022-03-16T18:12:24.338935Z",
     "shell.execute_reply": "2022-03-16T18:12:24.338494Z",
     "shell.execute_reply.started": "2022-03-16T18:10:48.487489Z"
    },
    "papermill": {
     "duration": 0.046921,
     "end_time": "2022-03-16T18:12:24.339047",
     "exception": false,
     "start_time": "2022-03-16T18:12:24.292126",
     "status": "completed"
    },
    "tags": []
   },
   "outputs": [
    {
     "data": {
      "text/plain": [
       "location    2533\n",
       "keyword       61\n",
       "id             0\n",
       "text           0\n",
       "target         0\n",
       "dtype: int64"
      ]
     },
     "execution_count": 8,
     "metadata": {},
     "output_type": "execute_result"
    }
   ],
   "source": [
    "#sum of all null values in each column of training dataset, in descending order\n",
    "train_df.isnull().sum().sort_values(ascending = False)"
   ]
  },
  {
   "cell_type": "code",
   "execution_count": 9,
   "id": "a4940037",
   "metadata": {
    "execution": {
     "iopub.execute_input": "2022-03-16T18:12:24.413335Z",
     "iopub.status.busy": "2022-03-16T18:12:24.412596Z",
     "iopub.status.idle": "2022-03-16T18:12:24.414452Z",
     "shell.execute_reply": "2022-03-16T18:12:24.414824Z",
     "shell.execute_reply.started": "2022-03-16T18:10:48.508323Z"
    },
    "papermill": {
     "duration": 0.040497,
     "end_time": "2022-03-16T18:12:24.414976",
     "exception": false,
     "start_time": "2022-03-16T18:12:24.374479",
     "status": "completed"
    },
    "tags": []
   },
   "outputs": [],
   "source": [
    "#We can see a lots of null values for \"keyword\" and \"location\" columns"
   ]
  },
  {
   "cell_type": "code",
   "execution_count": 10,
   "id": "d9292755",
   "metadata": {
    "execution": {
     "iopub.execute_input": "2022-03-16T18:12:24.490885Z",
     "iopub.status.busy": "2022-03-16T18:12:24.490127Z",
     "iopub.status.idle": "2022-03-16T18:12:24.493208Z",
     "shell.execute_reply": "2022-03-16T18:12:24.493666Z",
     "shell.execute_reply.started": "2022-03-16T18:10:48.517112Z"
    },
    "papermill": {
     "duration": 0.042583,
     "end_time": "2022-03-16T18:12:24.493786",
     "exception": false,
     "start_time": "2022-03-16T18:12:24.451203",
     "status": "completed"
    },
    "tags": []
   },
   "outputs": [],
   "source": [
    "#exploratory data analysis (EDA)"
   ]
  },
  {
   "cell_type": "code",
   "execution_count": 11,
   "id": "0aea8282",
   "metadata": {
    "execution": {
     "iopub.execute_input": "2022-03-16T18:12:24.575097Z",
     "iopub.status.busy": "2022-03-16T18:12:24.574312Z",
     "iopub.status.idle": "2022-03-16T18:12:24.579480Z",
     "shell.execute_reply": "2022-03-16T18:12:24.578925Z",
     "shell.execute_reply.started": "2022-03-16T18:10:48.597888Z"
    },
    "papermill": {
     "duration": 0.050148,
     "end_time": "2022-03-16T18:12:24.579617",
     "exception": false,
     "start_time": "2022-03-16T18:12:24.529469",
     "status": "completed"
    },
    "tags": []
   },
   "outputs": [
    {
     "name": "stdout",
     "output_type": "stream",
     "text": [
      "No. of Real Disaster Tweets (Target = 1): 3271\n",
      "No. of Fake Disaster Tweets (Target = 0): 4342\n"
     ]
    }
   ],
   "source": [
    "# check class distribution\n",
    "\n",
    "print(\"No. of Real Disaster Tweets (Target = 1):\",len(train_df[train_df[\"target\"]==1]))\n",
    "print(\"No. of Fake Disaster Tweets (Target = 0):\",len(train_df[train_df[\"target\"]==0]))"
   ]
  },
  {
   "cell_type": "code",
   "execution_count": 12,
   "id": "f21e0ab3",
   "metadata": {
    "execution": {
     "iopub.execute_input": "2022-03-16T18:12:24.656725Z",
     "iopub.status.busy": "2022-03-16T18:12:24.656095Z",
     "iopub.status.idle": "2022-03-16T18:12:24.658634Z",
     "shell.execute_reply": "2022-03-16T18:12:24.658230Z",
     "shell.execute_reply.started": "2022-03-16T18:10:48.615453Z"
    },
    "papermill": {
     "duration": 0.04307,
     "end_time": "2022-03-16T18:12:24.658737",
     "exception": false,
     "start_time": "2022-03-16T18:12:24.615667",
     "status": "completed"
    },
    "tags": []
   },
   "outputs": [],
   "source": [
    "# function to draw histogram\n",
    "def draw_hist(xlabel, ylabel,title,target,sub,color):\n",
    "    plt.subplot(1,2,sub)\n",
    "    plt.hist(train_df[train_df.target==target][\"length\"],color = color)\n",
    "    plt.title(title,fontsize=25)\n",
    "    plt.xlabel(xlabel,fontsize=15)\n",
    "    plt.ylabel(ylabel,fontsize=15)\n",
    "    plt.ylim(0,1200)\n",
    "    plt.grid()"
   ]
  },
  {
   "cell_type": "code",
   "execution_count": 13,
   "id": "dd0ea40e",
   "metadata": {
    "execution": {
     "iopub.execute_input": "2022-03-16T18:12:24.741650Z",
     "iopub.status.busy": "2022-03-16T18:12:24.733641Z",
     "iopub.status.idle": "2022-03-16T18:12:24.748758Z",
     "shell.execute_reply": "2022-03-16T18:12:24.749428Z",
     "shell.execute_reply.started": "2022-03-16T18:10:48.626614Z"
    },
    "papermill": {
     "duration": 0.055433,
     "end_time": "2022-03-16T18:12:24.749618",
     "exception": false,
     "start_time": "2022-03-16T18:12:24.694185",
     "status": "completed"
    },
    "tags": []
   },
   "outputs": [],
   "source": [
    "# we will now check the length of \"real disaster\" vs lenght of \"fake disaster\" tweets\n",
    "# lets first add a new field to the dataset called \"length\"\n",
    "def length(text):    \n",
    "    return len(text)\n",
    "\n",
    "train_df[\"length\"]= train_df.text.apply(length)"
   ]
  },
  {
   "cell_type": "code",
   "execution_count": 14,
   "id": "40e94483",
   "metadata": {
    "execution": {
     "iopub.execute_input": "2022-03-16T18:12:24.884697Z",
     "iopub.status.busy": "2022-03-16T18:12:24.883832Z",
     "iopub.status.idle": "2022-03-16T18:12:25.457524Z",
     "shell.execute_reply": "2022-03-16T18:12:25.458191Z",
     "shell.execute_reply.started": "2022-03-16T18:10:48.645427Z"
    },
    "papermill": {
     "duration": 0.642725,
     "end_time": "2022-03-16T18:12:25.458350",
     "exception": false,
     "start_time": "2022-03-16T18:12:24.815625",
     "status": "completed"
    },
    "tags": []
   },
   "outputs": [
    {
     "data": {
      "image/png": "[encoded data removed]",
      "text/plain": [
       "<Figure size 1440x576 with 2 Axes>"
      ]
     },
     "metadata": {
      "needs_background": "light"
     },
     "output_type": "display_data"
    }
   ],
   "source": [
    "# lets see the distribution of length of tweets real vs fake\n",
    "\n",
    "plt.figure(figsize = (20,8))\n",
    "draw_hist(\"Real Disaster Tweets\",\"Length of Tweets\",\"Length of Real Disaster Tweets\",1, 1,\"darkgreen\")\n",
    "draw_hist(\"Fake Disaster Tweets\",\"Length of Tweets\",\"Length of Fake Disaster Tweets\",0, 2,\"darkred\")"
   ]
  },
  {
   "cell_type": "code",
   "execution_count": 15,
   "id": "cadc32c3",
   "metadata": {
    "execution": {
     "iopub.execute_input": "2022-03-16T18:12:25.545233Z",
     "iopub.status.busy": "2022-03-16T18:12:25.544454Z",
     "iopub.status.idle": "2022-03-16T18:12:25.547605Z",
     "shell.execute_reply": "2022-03-16T18:12:25.548018Z",
     "shell.execute_reply.started": "2022-03-16T18:10:49.151139Z"
    },
    "papermill": {
     "duration": 0.052491,
     "end_time": "2022-03-16T18:12:25.548149",
     "exception": false,
     "start_time": "2022-03-16T18:12:25.495658",
     "status": "completed"
    },
    "tags": []
   },
   "outputs": [
    {
     "data": {
      "text/html": [
       "<div>\n",
       "<style scoped>\n",
       "    .dataframe tbody tr th:only-of-type {\n",
       "        vertical-align: middle;\n",
       "    }\n",
       "\n",
       "    .dataframe tbody tr th {\n",
       "        vertical-align: top;\n",
       "    }\n",
       "\n",
       "    .dataframe thead th {\n",
       "        text-align: right;\n",
       "    }\n",
       "</style>\n",
       "<table border=\"1\" class=\"dataframe\">\n",
       "  <thead>\n",
       "    <tr style=\"text-align: right;\">\n",
       "      <th></th>\n",
       "      <th>id</th>\n",
       "      <th>keyword</th>\n",
       "      <th>location</th>\n",
       "      <th>text</th>\n",
       "      <th>target</th>\n",
       "      <th>length</th>\n",
       "    </tr>\n",
       "  </thead>\n",
       "  <tbody>\n",
       "    <tr>\n",
       "      <th>0</th>\n",
       "      <td>1</td>\n",
       "      <td>NaN</td>\n",
       "      <td>NaN</td>\n",
       "      <td>Our Deeds are the Reason of this #earthquake M...</td>\n",
       "      <td>1</td>\n",
       "      <td>69</td>\n",
       "    </tr>\n",
       "    <tr>\n",
       "      <th>1</th>\n",
       "      <td>4</td>\n",
       "      <td>NaN</td>\n",
       "      <td>NaN</td>\n",
       "      <td>Forest fire near La Ronge Sask. Canada</td>\n",
       "      <td>1</td>\n",
       "      <td>38</td>\n",
       "    </tr>\n",
       "    <tr>\n",
       "      <th>2</th>\n",
       "      <td>5</td>\n",
       "      <td>NaN</td>\n",
       "      <td>NaN</td>\n",
       "      <td>All residents asked to 'shelter in place' are ...</td>\n",
       "      <td>1</td>\n",
       "      <td>133</td>\n",
       "    </tr>\n",
       "    <tr>\n",
       "      <th>3</th>\n",
       "      <td>6</td>\n",
       "      <td>NaN</td>\n",
       "      <td>NaN</td>\n",
       "      <td>13,000 people receive #wildfires evacuation or...</td>\n",
       "      <td>1</td>\n",
       "      <td>65</td>\n",
       "    </tr>\n",
       "    <tr>\n",
       "      <th>4</th>\n",
       "      <td>7</td>\n",
       "      <td>NaN</td>\n",
       "      <td>NaN</td>\n",
       "      <td>Just got sent this photo from Ruby #Alaska as ...</td>\n",
       "      <td>1</td>\n",
       "      <td>88</td>\n",
       "    </tr>\n",
       "    <tr>\n",
       "      <th>...</th>\n",
       "      <td>...</td>\n",
       "      <td>...</td>\n",
       "      <td>...</td>\n",
       "      <td>...</td>\n",
       "      <td>...</td>\n",
       "      <td>...</td>\n",
       "    </tr>\n",
       "    <tr>\n",
       "      <th>7608</th>\n",
       "      <td>10869</td>\n",
       "      <td>NaN</td>\n",
       "      <td>NaN</td>\n",
       "      <td>Two giant cranes holding a bridge collapse int...</td>\n",
       "      <td>1</td>\n",
       "      <td>83</td>\n",
       "    </tr>\n",
       "    <tr>\n",
       "      <th>7609</th>\n",
       "      <td>10870</td>\n",
       "      <td>NaN</td>\n",
       "      <td>NaN</td>\n",
       "      <td>@aria_ahrary @TheTawniest The out of control w...</td>\n",
       "      <td>1</td>\n",
       "      <td>125</td>\n",
       "    </tr>\n",
       "    <tr>\n",
       "      <th>7610</th>\n",
       "      <td>10871</td>\n",
       "      <td>NaN</td>\n",
       "      <td>NaN</td>\n",
       "      <td>M1.94 [01:04 UTC]?5km S of Volcano Hawaii. htt...</td>\n",
       "      <td>1</td>\n",
       "      <td>65</td>\n",
       "    </tr>\n",
       "    <tr>\n",
       "      <th>7611</th>\n",
       "      <td>10872</td>\n",
       "      <td>NaN</td>\n",
       "      <td>NaN</td>\n",
       "      <td>Police investigating after an e-bike collided ...</td>\n",
       "      <td>1</td>\n",
       "      <td>137</td>\n",
       "    </tr>\n",
       "    <tr>\n",
       "      <th>7612</th>\n",
       "      <td>10873</td>\n",
       "      <td>NaN</td>\n",
       "      <td>NaN</td>\n",
       "      <td>The Latest: More Homes Razed by Northern Calif...</td>\n",
       "      <td>1</td>\n",
       "      <td>94</td>\n",
       "    </tr>\n",
       "  </tbody>\n",
       "</table>\n",
       "<p>7613 rows × 6 columns</p>\n",
       "</div>"
      ],
      "text/plain": [
       "         id keyword location  \\\n",
       "0         1     NaN      NaN   \n",
       "1         4     NaN      NaN   \n",
       "2         5     NaN      NaN   \n",
       "3         6     NaN      NaN   \n",
       "4         7     NaN      NaN   \n",
       "...     ...     ...      ...   \n",
       "7608  10869     NaN      NaN   \n",
       "7609  10870     NaN      NaN   \n",
       "7610  10871     NaN      NaN   \n",
       "7611  10872     NaN      NaN   \n",
       "7612  10873     NaN      NaN   \n",
       "\n",
       "                                                   text  target  length  \n",
       "0     Our Deeds are the Reason of this #earthquake M...       1      69  \n",
       "1                Forest fire near La Ronge Sask. Canada       1      38  \n",
       "2     All residents asked to 'shelter in place' are ...       1     133  \n",
       "3     13,000 people receive #wildfires evacuation or...       1      65  \n",
       "4     Just got sent this photo from Ruby #Alaska as ...       1      88  \n",
       "...                                                 ...     ...     ...  \n",
       "7608  Two giant cranes holding a bridge collapse int...       1      83  \n",
       "7609  @aria_ahrary @TheTawniest The out of control w...       1     125  \n",
       "7610  M1.94 [01:04 UTC]?5km S of Volcano Hawaii. htt...       1      65  \n",
       "7611  Police investigating after an e-bike collided ...       1     137  \n",
       "7612  The Latest: More Homes Razed by Northern Calif...       1      94  \n",
       "\n",
       "[7613 rows x 6 columns]"
      ]
     },
     "execution_count": 15,
     "metadata": {},
     "output_type": "execute_result"
    }
   ],
   "source": [
    "#training dataset with added length column\n",
    "train_df"
   ]
  },
  {
   "cell_type": "code",
   "execution_count": 16,
   "id": "b846fe0b",
   "metadata": {
    "execution": {
     "iopub.execute_input": "2022-03-16T18:12:25.628728Z",
     "iopub.status.busy": "2022-03-16T18:12:25.628204Z",
     "iopub.status.idle": "2022-03-16T18:12:25.630976Z",
     "shell.execute_reply": "2022-03-16T18:12:25.631394Z",
     "shell.execute_reply.started": "2022-03-16T18:10:49.174002Z"
    },
    "papermill": {
     "duration": 0.046144,
     "end_time": "2022-03-16T18:12:25.631516",
     "exception": false,
     "start_time": "2022-03-16T18:12:25.585372",
     "status": "completed"
    },
    "tags": []
   },
   "outputs": [
    {
     "name": "stderr",
     "output_type": "stream",
     "text": [
      "/opt/conda/lib/python3.7/site-packages/ipykernel_launcher.py:2: FutureWarning: In a future version of pandas all arguments of DataFrame.drop except for the argument 'labels' will be keyword-only\n",
      "  \n"
     ]
    }
   ],
   "source": [
    "# lets drop the column\n",
    "train_df.drop(\"length\",1,inplace=True)"
   ]
  },
  {
   "cell_type": "code",
   "execution_count": 17,
   "id": "195ce7ec",
   "metadata": {
    "execution": {
     "iopub.execute_input": "2022-03-16T18:12:25.720661Z",
     "iopub.status.busy": "2022-03-16T18:12:25.720034Z",
     "iopub.status.idle": "2022-03-16T18:12:25.723297Z",
     "shell.execute_reply": "2022-03-16T18:12:25.723705Z",
     "shell.execute_reply.started": "2022-03-16T18:10:49.185440Z"
    },
    "papermill": {
     "duration": 0.053583,
     "end_time": "2022-03-16T18:12:25.723825",
     "exception": false,
     "start_time": "2022-03-16T18:12:25.670242",
     "status": "completed"
    },
    "tags": []
   },
   "outputs": [
    {
     "data": {
      "text/html": [
       "<div>\n",
       "<style scoped>\n",
       "    .dataframe tbody tr th:only-of-type {\n",
       "        vertical-align: middle;\n",
       "    }\n",
       "\n",
       "    .dataframe tbody tr th {\n",
       "        vertical-align: top;\n",
       "    }\n",
       "\n",
       "    .dataframe thead th {\n",
       "        text-align: right;\n",
       "    }\n",
       "</style>\n",
       "<table border=\"1\" class=\"dataframe\">\n",
       "  <thead>\n",
       "    <tr style=\"text-align: right;\">\n",
       "      <th></th>\n",
       "      <th>id</th>\n",
       "      <th>keyword</th>\n",
       "      <th>location</th>\n",
       "      <th>text</th>\n",
       "      <th>target</th>\n",
       "    </tr>\n",
       "  </thead>\n",
       "  <tbody>\n",
       "    <tr>\n",
       "      <th>0</th>\n",
       "      <td>1</td>\n",
       "      <td>NaN</td>\n",
       "      <td>NaN</td>\n",
       "      <td>Our Deeds are the Reason of this #earthquake M...</td>\n",
       "      <td>1</td>\n",
       "    </tr>\n",
       "    <tr>\n",
       "      <th>1</th>\n",
       "      <td>4</td>\n",
       "      <td>NaN</td>\n",
       "      <td>NaN</td>\n",
       "      <td>Forest fire near La Ronge Sask. Canada</td>\n",
       "      <td>1</td>\n",
       "    </tr>\n",
       "    <tr>\n",
       "      <th>2</th>\n",
       "      <td>5</td>\n",
       "      <td>NaN</td>\n",
       "      <td>NaN</td>\n",
       "      <td>All residents asked to 'shelter in place' are ...</td>\n",
       "      <td>1</td>\n",
       "    </tr>\n",
       "    <tr>\n",
       "      <th>3</th>\n",
       "      <td>6</td>\n",
       "      <td>NaN</td>\n",
       "      <td>NaN</td>\n",
       "      <td>13,000 people receive #wildfires evacuation or...</td>\n",
       "      <td>1</td>\n",
       "    </tr>\n",
       "    <tr>\n",
       "      <th>4</th>\n",
       "      <td>7</td>\n",
       "      <td>NaN</td>\n",
       "      <td>NaN</td>\n",
       "      <td>Just got sent this photo from Ruby #Alaska as ...</td>\n",
       "      <td>1</td>\n",
       "    </tr>\n",
       "    <tr>\n",
       "      <th>...</th>\n",
       "      <td>...</td>\n",
       "      <td>...</td>\n",
       "      <td>...</td>\n",
       "      <td>...</td>\n",
       "      <td>...</td>\n",
       "    </tr>\n",
       "    <tr>\n",
       "      <th>7608</th>\n",
       "      <td>10869</td>\n",
       "      <td>NaN</td>\n",
       "      <td>NaN</td>\n",
       "      <td>Two giant cranes holding a bridge collapse int...</td>\n",
       "      <td>1</td>\n",
       "    </tr>\n",
       "    <tr>\n",
       "      <th>7609</th>\n",
       "      <td>10870</td>\n",
       "      <td>NaN</td>\n",
       "      <td>NaN</td>\n",
       "      <td>@aria_ahrary @TheTawniest The out of control w...</td>\n",
       "      <td>1</td>\n",
       "    </tr>\n",
       "    <tr>\n",
       "      <th>7610</th>\n",
       "      <td>10871</td>\n",
       "      <td>NaN</td>\n",
       "      <td>NaN</td>\n",
       "      <td>M1.94 [01:04 UTC]?5km S of Volcano Hawaii. htt...</td>\n",
       "      <td>1</td>\n",
       "    </tr>\n",
       "    <tr>\n",
       "      <th>7611</th>\n",
       "      <td>10872</td>\n",
       "      <td>NaN</td>\n",
       "      <td>NaN</td>\n",
       "      <td>Police investigating after an e-bike collided ...</td>\n",
       "      <td>1</td>\n",
       "    </tr>\n",
       "    <tr>\n",
       "      <th>7612</th>\n",
       "      <td>10873</td>\n",
       "      <td>NaN</td>\n",
       "      <td>NaN</td>\n",
       "      <td>The Latest: More Homes Razed by Northern Calif...</td>\n",
       "      <td>1</td>\n",
       "    </tr>\n",
       "  </tbody>\n",
       "</table>\n",
       "<p>7613 rows × 5 columns</p>\n",
       "</div>"
      ],
      "text/plain": [
       "         id keyword location  \\\n",
       "0         1     NaN      NaN   \n",
       "1         4     NaN      NaN   \n",
       "2         5     NaN      NaN   \n",
       "3         6     NaN      NaN   \n",
       "4         7     NaN      NaN   \n",
       "...     ...     ...      ...   \n",
       "7608  10869     NaN      NaN   \n",
       "7609  10870     NaN      NaN   \n",
       "7610  10871     NaN      NaN   \n",
       "7611  10872     NaN      NaN   \n",
       "7612  10873     NaN      NaN   \n",
       "\n",
       "                                                   text  target  \n",
       "0     Our Deeds are the Reason of this #earthquake M...       1  \n",
       "1                Forest fire near La Ronge Sask. Canada       1  \n",
       "2     All residents asked to 'shelter in place' are ...       1  \n",
       "3     13,000 people receive #wildfires evacuation or...       1  \n",
       "4     Just got sent this photo from Ruby #Alaska as ...       1  \n",
       "...                                                 ...     ...  \n",
       "7608  Two giant cranes holding a bridge collapse int...       1  \n",
       "7609  @aria_ahrary @TheTawniest The out of control w...       1  \n",
       "7610  M1.94 [01:04 UTC]?5km S of Volcano Hawaii. htt...       1  \n",
       "7611  Police investigating after an e-bike collided ...       1  \n",
       "7612  The Latest: More Homes Razed by Northern Calif...       1  \n",
       "\n",
       "[7613 rows x 5 columns]"
      ]
     },
     "execution_count": 17,
     "metadata": {},
     "output_type": "execute_result"
    }
   ],
   "source": [
    "train_df"
   ]
  },
  {
   "cell_type": "code",
   "execution_count": 18,
   "id": "61e23a93",
   "metadata": {
    "execution": {
     "iopub.execute_input": "2022-03-16T18:12:25.805804Z",
     "iopub.status.busy": "2022-03-16T18:12:25.804265Z",
     "iopub.status.idle": "2022-03-16T18:12:25.806459Z",
     "shell.execute_reply": "2022-03-16T18:12:25.806843Z",
     "shell.execute_reply.started": "2022-03-16T18:10:49.208231Z"
    },
    "papermill": {
     "duration": 0.044338,
     "end_time": "2022-03-16T18:12:25.806987",
     "exception": false,
     "start_time": "2022-03-16T18:12:25.762649",
     "status": "completed"
    },
    "tags": []
   },
   "outputs": [],
   "source": [
    "#preprocessing"
   ]
  },
  {
   "cell_type": "code",
   "execution_count": 19,
   "id": "df560a89",
   "metadata": {
    "execution": {
     "iopub.execute_input": "2022-03-16T18:12:25.891414Z",
     "iopub.status.busy": "2022-03-16T18:12:25.889842Z",
     "iopub.status.idle": "2022-03-16T18:12:25.892097Z",
     "shell.execute_reply": "2022-03-16T18:12:25.892637Z",
     "shell.execute_reply.started": "2022-03-16T18:10:49.217468Z"
    },
    "papermill": {
     "duration": 0.046722,
     "end_time": "2022-03-16T18:12:25.892781",
     "exception": false,
     "start_time": "2022-03-16T18:12:25.846059",
     "status": "completed"
    },
    "tags": []
   },
   "outputs": [],
   "source": [
    "#dropping the 2 columns that contain null values (keyword and location)\n",
    "train_df=train_df.drop('keyword',axis=1)\n",
    "train_df=train_df.drop('location',axis=1)"
   ]
  },
  {
   "cell_type": "code",
   "execution_count": 20,
   "id": "fccc3ec1",
   "metadata": {
    "execution": {
     "iopub.execute_input": "2022-03-16T18:12:25.989238Z",
     "iopub.status.busy": "2022-03-16T18:12:25.984708Z",
     "iopub.status.idle": "2022-03-16T18:12:26.020614Z",
     "shell.execute_reply": "2022-03-16T18:12:26.021034Z",
     "shell.execute_reply.started": "2022-03-16T18:10:49.229729Z"
    },
    "papermill": {
     "duration": 0.08982,
     "end_time": "2022-03-16T18:12:26.021164",
     "exception": false,
     "start_time": "2022-03-16T18:12:25.931344",
     "status": "completed"
    },
    "tags": []
   },
   "outputs": [
    {
     "data": {
      "text/html": [
       "<div>\n",
       "<style scoped>\n",
       "    .dataframe tbody tr th:only-of-type {\n",
       "        vertical-align: middle;\n",
       "    }\n",
       "\n",
       "    .dataframe tbody tr th {\n",
       "        vertical-align: top;\n",
       "    }\n",
       "\n",
       "    .dataframe thead th {\n",
       "        text-align: right;\n",
       "    }\n",
       "</style>\n",
       "<table border=\"1\" class=\"dataframe\">\n",
       "  <thead>\n",
       "    <tr style=\"text-align: right;\">\n",
       "      <th></th>\n",
       "      <th>id</th>\n",
       "      <th>text</th>\n",
       "      <th>target</th>\n",
       "    </tr>\n",
       "  </thead>\n",
       "  <tbody>\n",
       "    <tr>\n",
       "      <th>0</th>\n",
       "      <td>1</td>\n",
       "      <td>Our Deeds are the Reason of this #earthquake M...</td>\n",
       "      <td>1</td>\n",
       "    </tr>\n",
       "    <tr>\n",
       "      <th>1</th>\n",
       "      <td>4</td>\n",
       "      <td>Forest fire near La Ronge Sask. Canada</td>\n",
       "      <td>1</td>\n",
       "    </tr>\n",
       "    <tr>\n",
       "      <th>2</th>\n",
       "      <td>5</td>\n",
       "      <td>All residents asked to 'shelter in place' are ...</td>\n",
       "      <td>1</td>\n",
       "    </tr>\n",
       "    <tr>\n",
       "      <th>3</th>\n",
       "      <td>6</td>\n",
       "      <td>13,000 people receive #wildfires evacuation or...</td>\n",
       "      <td>1</td>\n",
       "    </tr>\n",
       "    <tr>\n",
       "      <th>4</th>\n",
       "      <td>7</td>\n",
       "      <td>Just got sent this photo from Ruby #Alaska as ...</td>\n",
       "      <td>1</td>\n",
       "    </tr>\n",
       "  </tbody>\n",
       "</table>\n",
       "</div>"
      ],
      "text/plain": [
       "   id                                               text  target\n",
       "0   1  Our Deeds are the Reason of this #earthquake M...       1\n",
       "1   4             Forest fire near La Ronge Sask. Canada       1\n",
       "2   5  All residents asked to 'shelter in place' are ...       1\n",
       "3   6  13,000 people receive #wildfires evacuation or...       1\n",
       "4   7  Just got sent this photo from Ruby #Alaska as ...       1"
      ]
     },
     "execution_count": 20,
     "metadata": {},
     "output_type": "execute_result"
    }
   ],
   "source": [
    "#we will remove any urls/links in the column \"text\"\n",
    "def remove_urls(text):\n",
    "    text = re.sub(r\"(https?:\\/\\/)(\\s)*(www\\.)?(\\s)*((\\w|\\s)+\\.)*([\\w\\-\\s]+\\/)*([\\w\\-]+)((\\?)?[\\w\\s]*=\\s*[\\w\\%&]*)*\",\"\",text)\n",
    "    return text\n",
    "\n",
    "train_df[\"text\"] = train_df[\"text\"].apply(lambda x: remove_urls(x))\n",
    "test_df[\"text\"]=test_df[\"text\"].apply(lambda x: remove_urls(x))\n",
    "\n",
    "\n",
    "train_df.head()"
   ]
  },
  {
   "cell_type": "code",
   "execution_count": 21,
   "id": "a4ba0d9b",
   "metadata": {
    "execution": {
     "iopub.execute_input": "2022-03-16T18:12:26.114367Z",
     "iopub.status.busy": "2022-03-16T18:12:26.113834Z",
     "iopub.status.idle": "2022-03-16T18:12:26.118939Z",
     "shell.execute_reply": "2022-03-16T18:12:26.119416Z",
     "shell.execute_reply.started": "2022-03-16T18:10:49.291243Z"
    },
    "papermill": {
     "duration": 0.059014,
     "end_time": "2022-03-16T18:12:26.119551",
     "exception": false,
     "start_time": "2022-03-16T18:12:26.060537",
     "status": "completed"
    },
    "tags": []
   },
   "outputs": [
    {
     "data": {
      "text/html": [
       "<div>\n",
       "<style scoped>\n",
       "    .dataframe tbody tr th:only-of-type {\n",
       "        vertical-align: middle;\n",
       "    }\n",
       "\n",
       "    .dataframe tbody tr th {\n",
       "        vertical-align: top;\n",
       "    }\n",
       "\n",
       "    .dataframe thead th {\n",
       "        text-align: right;\n",
       "    }\n",
       "</style>\n",
       "<table border=\"1\" class=\"dataframe\">\n",
       "  <thead>\n",
       "    <tr style=\"text-align: right;\">\n",
       "      <th></th>\n",
       "      <th>id</th>\n",
       "      <th>text</th>\n",
       "      <th>target</th>\n",
       "    </tr>\n",
       "  </thead>\n",
       "  <tbody>\n",
       "    <tr>\n",
       "      <th>0</th>\n",
       "      <td>1</td>\n",
       "      <td>our deeds are the reason of this #earthquake m...</td>\n",
       "      <td>1</td>\n",
       "    </tr>\n",
       "    <tr>\n",
       "      <th>1</th>\n",
       "      <td>4</td>\n",
       "      <td>forest fire near la ronge sask. canada</td>\n",
       "      <td>1</td>\n",
       "    </tr>\n",
       "    <tr>\n",
       "      <th>2</th>\n",
       "      <td>5</td>\n",
       "      <td>all residents asked to 'shelter in place' are ...</td>\n",
       "      <td>1</td>\n",
       "    </tr>\n",
       "    <tr>\n",
       "      <th>3</th>\n",
       "      <td>6</td>\n",
       "      <td>13,000 people receive #wildfires evacuation or...</td>\n",
       "      <td>1</td>\n",
       "    </tr>\n",
       "    <tr>\n",
       "      <th>4</th>\n",
       "      <td>7</td>\n",
       "      <td>just got sent this photo from ruby #alaska as ...</td>\n",
       "      <td>1</td>\n",
       "    </tr>\n",
       "  </tbody>\n",
       "</table>\n",
       "</div>"
      ],
      "text/plain": [
       "   id                                               text  target\n",
       "0   1  our deeds are the reason of this #earthquake m...       1\n",
       "1   4             forest fire near la ronge sask. canada       1\n",
       "2   5  all residents asked to 'shelter in place' are ...       1\n",
       "3   6  13,000 people receive #wildfires evacuation or...       1\n",
       "4   7  just got sent this photo from ruby #alaska as ...       1"
      ]
     },
     "execution_count": 21,
     "metadata": {},
     "output_type": "execute_result"
    }
   ],
   "source": [
    "#converting all string values to lower case letters in text column of tarining dataset\n",
    "train_df['text'] = train_df['text'].str.lower()\n",
    "test_df['text'] = test_df['text'].str.lower()\n",
    "train_df.head()"
   ]
  },
  {
   "cell_type": "code",
   "execution_count": 22,
   "id": "08fa8b3f",
   "metadata": {
    "execution": {
     "iopub.execute_input": "2022-03-16T18:12:26.200404Z",
     "iopub.status.busy": "2022-03-16T18:12:26.199589Z",
     "iopub.status.idle": "2022-03-16T18:12:26.265288Z",
     "shell.execute_reply": "2022-03-16T18:12:26.265841Z",
     "shell.execute_reply.started": "2022-03-16T18:10:49.318895Z"
    },
    "papermill": {
     "duration": 0.107256,
     "end_time": "2022-03-16T18:12:26.265997",
     "exception": false,
     "start_time": "2022-03-16T18:12:26.158741",
     "status": "completed"
    },
    "tags": []
   },
   "outputs": [
    {
     "data": {
      "text/html": [
       "<div>\n",
       "<style scoped>\n",
       "    .dataframe tbody tr th:only-of-type {\n",
       "        vertical-align: middle;\n",
       "    }\n",
       "\n",
       "    .dataframe tbody tr th {\n",
       "        vertical-align: top;\n",
       "    }\n",
       "\n",
       "    .dataframe thead th {\n",
       "        text-align: right;\n",
       "    }\n",
       "</style>\n",
       "<table border=\"1\" class=\"dataframe\">\n",
       "  <thead>\n",
       "    <tr style=\"text-align: right;\">\n",
       "      <th></th>\n",
       "      <th>id</th>\n",
       "      <th>text</th>\n",
       "      <th>target</th>\n",
       "    </tr>\n",
       "  </thead>\n",
       "  <tbody>\n",
       "    <tr>\n",
       "      <th>0</th>\n",
       "      <td>1</td>\n",
       "      <td>our deeds are the reason of this earthquake ma...</td>\n",
       "      <td>1</td>\n",
       "    </tr>\n",
       "    <tr>\n",
       "      <th>1</th>\n",
       "      <td>4</td>\n",
       "      <td>forest fire near la ronge sask canada</td>\n",
       "      <td>1</td>\n",
       "    </tr>\n",
       "    <tr>\n",
       "      <th>2</th>\n",
       "      <td>5</td>\n",
       "      <td>all residents asked to shelter in place are be...</td>\n",
       "      <td>1</td>\n",
       "    </tr>\n",
       "    <tr>\n",
       "      <th>3</th>\n",
       "      <td>6</td>\n",
       "      <td>people receive wildfires evacuation orders in...</td>\n",
       "      <td>1</td>\n",
       "    </tr>\n",
       "    <tr>\n",
       "      <th>4</th>\n",
       "      <td>7</td>\n",
       "      <td>just got sent this photo from ruby alaska as s...</td>\n",
       "      <td>1</td>\n",
       "    </tr>\n",
       "  </tbody>\n",
       "</table>\n",
       "</div>"
      ],
      "text/plain": [
       "   id                                               text  target\n",
       "0   1  our deeds are the reason of this earthquake ma...       1\n",
       "1   4              forest fire near la ronge sask canada       1\n",
       "2   5  all residents asked to shelter in place are be...       1\n",
       "3   6   people receive wildfires evacuation orders in...       1\n",
       "4   7  just got sent this photo from ruby alaska as s...       1"
      ]
     },
     "execution_count": 22,
     "metadata": {},
     "output_type": "execute_result"
    }
   ],
   "source": [
    "def extract_words(text):\n",
    "    return re.sub(r'[^a-zA-Z\\s]', '', text)\n",
    "\n",
    "train_df['text'] = train_df['text'].apply(lambda text: extract_words(text))\n",
    "test_df['text'] = test_df['text'].apply(lambda text: extract_words(text))\n",
    "train_df.head()"
   ]
  },
  {
   "cell_type": "code",
   "execution_count": 23,
   "id": "d1ac11c7",
   "metadata": {
    "execution": {
     "iopub.execute_input": "2022-03-16T18:12:26.362424Z",
     "iopub.status.busy": "2022-03-16T18:12:26.361682Z",
     "iopub.status.idle": "2022-03-16T18:12:26.399818Z",
     "shell.execute_reply": "2022-03-16T18:12:26.400264Z",
     "shell.execute_reply.started": "2022-03-16T18:10:49.402064Z"
    },
    "papermill": {
     "duration": 0.094027,
     "end_time": "2022-03-16T18:12:26.400390",
     "exception": false,
     "start_time": "2022-03-16T18:12:26.306363",
     "status": "completed"
    },
    "tags": []
   },
   "outputs": [
    {
     "data": {
      "text/html": [
       "<div>\n",
       "<style scoped>\n",
       "    .dataframe tbody tr th:only-of-type {\n",
       "        vertical-align: middle;\n",
       "    }\n",
       "\n",
       "    .dataframe tbody tr th {\n",
       "        vertical-align: top;\n",
       "    }\n",
       "\n",
       "    .dataframe thead th {\n",
       "        text-align: right;\n",
       "    }\n",
       "</style>\n",
       "<table border=\"1\" class=\"dataframe\">\n",
       "  <thead>\n",
       "    <tr style=\"text-align: right;\">\n",
       "      <th></th>\n",
       "      <th>id</th>\n",
       "      <th>text</th>\n",
       "      <th>target</th>\n",
       "    </tr>\n",
       "  </thead>\n",
       "  <tbody>\n",
       "    <tr>\n",
       "      <th>0</th>\n",
       "      <td>1</td>\n",
       "      <td>our deeds are the reason of this earthquake ma...</td>\n",
       "      <td>1</td>\n",
       "    </tr>\n",
       "    <tr>\n",
       "      <th>1</th>\n",
       "      <td>4</td>\n",
       "      <td>forest fire near la ronge sask canada</td>\n",
       "      <td>1</td>\n",
       "    </tr>\n",
       "    <tr>\n",
       "      <th>2</th>\n",
       "      <td>5</td>\n",
       "      <td>all residents asked to shelter in place are be...</td>\n",
       "      <td>1</td>\n",
       "    </tr>\n",
       "    <tr>\n",
       "      <th>3</th>\n",
       "      <td>6</td>\n",
       "      <td>people receive wildfires evacuation orders in...</td>\n",
       "      <td>1</td>\n",
       "    </tr>\n",
       "    <tr>\n",
       "      <th>4</th>\n",
       "      <td>7</td>\n",
       "      <td>just got sent this photo from ruby alaska as s...</td>\n",
       "      <td>1</td>\n",
       "    </tr>\n",
       "  </tbody>\n",
       "</table>\n",
       "</div>"
      ],
      "text/plain": [
       "   id                                               text  target\n",
       "0   1  our deeds are the reason of this earthquake ma...       1\n",
       "1   4              forest fire near la ronge sask canada       1\n",
       "2   5  all residents asked to shelter in place are be...       1\n",
       "3   6   people receive wildfires evacuation orders in...       1\n",
       "4   7  just got sent this photo from ruby alaska as s...       1"
      ]
     },
     "execution_count": 23,
     "metadata": {},
     "output_type": "execute_result"
    }
   ],
   "source": [
    "# removing punctuation from the tweets\n",
    "p = string.punctuation\n",
    "def remove_punctuation(text):\n",
    "    return text.translate(str.maketrans('', '', p))\n",
    "\n",
    "train_df[\"text\"] = train_df[\"text\"].apply(lambda text: remove_punctuation(text))\n",
    "test_df[\"text\"] = test_df[\"text\"].apply(lambda text: remove_punctuation(text))\n",
    "train_df.head()"
   ]
  },
  {
   "cell_type": "code",
   "execution_count": 24,
   "id": "7d8ec306",
   "metadata": {
    "execution": {
     "iopub.execute_input": "2022-03-16T18:12:26.486863Z",
     "iopub.status.busy": "2022-03-16T18:12:26.486301Z",
     "iopub.status.idle": "2022-03-16T18:12:42.882225Z",
     "shell.execute_reply": "2022-03-16T18:12:42.881727Z",
     "shell.execute_reply.started": "2022-03-16T18:10:49.473226Z"
    },
    "papermill": {
     "duration": 16.440973,
     "end_time": "2022-03-16T18:12:42.882358",
     "exception": false,
     "start_time": "2022-03-16T18:12:26.441385",
     "status": "completed"
    },
    "tags": []
   },
   "outputs": [
    {
     "data": {
      "text/html": [
       "<div>\n",
       "<style scoped>\n",
       "    .dataframe tbody tr th:only-of-type {\n",
       "        vertical-align: middle;\n",
       "    }\n",
       "\n",
       "    .dataframe tbody tr th {\n",
       "        vertical-align: top;\n",
       "    }\n",
       "\n",
       "    .dataframe thead th {\n",
       "        text-align: right;\n",
       "    }\n",
       "</style>\n",
       "<table border=\"1\" class=\"dataframe\">\n",
       "  <thead>\n",
       "    <tr style=\"text-align: right;\">\n",
       "      <th></th>\n",
       "      <th>id</th>\n",
       "      <th>text</th>\n",
       "      <th>target</th>\n",
       "    </tr>\n",
       "  </thead>\n",
       "  <tbody>\n",
       "    <tr>\n",
       "      <th>0</th>\n",
       "      <td>1</td>\n",
       "      <td>deeds reason earthquake may allah forgive us</td>\n",
       "      <td>1</td>\n",
       "    </tr>\n",
       "    <tr>\n",
       "      <th>1</th>\n",
       "      <td>4</td>\n",
       "      <td>forest fire near la ronge sask canada</td>\n",
       "      <td>1</td>\n",
       "    </tr>\n",
       "    <tr>\n",
       "      <th>2</th>\n",
       "      <td>5</td>\n",
       "      <td>residents asked shelter place notified officer...</td>\n",
       "      <td>1</td>\n",
       "    </tr>\n",
       "    <tr>\n",
       "      <th>3</th>\n",
       "      <td>6</td>\n",
       "      <td>people receive wildfires evacuation orders cal...</td>\n",
       "      <td>1</td>\n",
       "    </tr>\n",
       "    <tr>\n",
       "      <th>4</th>\n",
       "      <td>7</td>\n",
       "      <td>got sent photo ruby alaska smoke wildfires pou...</td>\n",
       "      <td>1</td>\n",
       "    </tr>\n",
       "  </tbody>\n",
       "</table>\n",
       "</div>"
      ],
      "text/plain": [
       "   id                                               text  target\n",
       "0   1       deeds reason earthquake may allah forgive us       1\n",
       "1   4              forest fire near la ronge sask canada       1\n",
       "2   5  residents asked shelter place notified officer...       1\n",
       "3   6  people receive wildfires evacuation orders cal...       1\n",
       "4   7  got sent photo ruby alaska smoke wildfires pou...       1"
      ]
     },
     "execution_count": 24,
     "metadata": {},
     "output_type": "execute_result"
    }
   ],
   "source": [
    "# removing stopwords\n",
    "def remove_stopwords(text):\n",
    "    return ' '.join([word for word in str(text).split() if word not in stopwords.words('english')])\n",
    "\n",
    "train_df['text'] = train_df['text'].apply(lambda text: remove_stopwords(text))\n",
    "test_df['text'] = test_df['text'].apply(lambda text: remove_stopwords(text))\n",
    "train_df.head()"
   ]
  },
  {
   "cell_type": "code",
   "execution_count": 25,
   "id": "3ae6c2ed",
   "metadata": {
    "execution": {
     "iopub.execute_input": "2022-03-16T18:12:42.971550Z",
     "iopub.status.busy": "2022-03-16T18:12:42.970930Z",
     "iopub.status.idle": "2022-03-16T18:12:45.186655Z",
     "shell.execute_reply": "2022-03-16T18:12:45.187053Z",
     "shell.execute_reply.started": "2022-03-16T18:11:13.724541Z"
    },
    "papermill": {
     "duration": 2.26377,
     "end_time": "2022-03-16T18:12:45.187208",
     "exception": false,
     "start_time": "2022-03-16T18:12:42.923438",
     "status": "completed"
    },
    "tags": []
   },
   "outputs": [
    {
     "data": {
      "text/html": [
       "<div>\n",
       "<style scoped>\n",
       "    .dataframe tbody tr th:only-of-type {\n",
       "        vertical-align: middle;\n",
       "    }\n",
       "\n",
       "    .dataframe tbody tr th {\n",
       "        vertical-align: top;\n",
       "    }\n",
       "\n",
       "    .dataframe thead th {\n",
       "        text-align: right;\n",
       "    }\n",
       "</style>\n",
       "<table border=\"1\" class=\"dataframe\">\n",
       "  <thead>\n",
       "    <tr style=\"text-align: right;\">\n",
       "      <th></th>\n",
       "      <th>id</th>\n",
       "      <th>text</th>\n",
       "      <th>target</th>\n",
       "    </tr>\n",
       "  </thead>\n",
       "  <tbody>\n",
       "    <tr>\n",
       "      <th>0</th>\n",
       "      <td>1</td>\n",
       "      <td>deed reason earthquake may allah forgive u</td>\n",
       "      <td>1</td>\n",
       "    </tr>\n",
       "    <tr>\n",
       "      <th>1</th>\n",
       "      <td>4</td>\n",
       "      <td>forest fire near la ronge sask canada</td>\n",
       "      <td>1</td>\n",
       "    </tr>\n",
       "    <tr>\n",
       "      <th>2</th>\n",
       "      <td>5</td>\n",
       "      <td>resident asked shelter place notified officer ...</td>\n",
       "      <td>1</td>\n",
       "    </tr>\n",
       "    <tr>\n",
       "      <th>3</th>\n",
       "      <td>6</td>\n",
       "      <td>people receive wildfire evacuation order calif...</td>\n",
       "      <td>1</td>\n",
       "    </tr>\n",
       "    <tr>\n",
       "      <th>4</th>\n",
       "      <td>7</td>\n",
       "      <td>got sent photo ruby alaska smoke wildfire pour...</td>\n",
       "      <td>1</td>\n",
       "    </tr>\n",
       "  </tbody>\n",
       "</table>\n",
       "</div>"
      ],
      "text/plain": [
       "   id                                               text  target\n",
       "0   1         deed reason earthquake may allah forgive u       1\n",
       "1   4              forest fire near la ronge sask canada       1\n",
       "2   5  resident asked shelter place notified officer ...       1\n",
       "3   6  people receive wildfire evacuation order calif...       1\n",
       "4   7  got sent photo ruby alaska smoke wildfire pour...       1"
      ]
     },
     "execution_count": 25,
     "metadata": {},
     "output_type": "execute_result"
    }
   ],
   "source": [
    "# lemmaizing the words\n",
    "lemmatizer = WordNetLemmatizer()\n",
    "def lemmatize_words(text):\n",
    "    return ' '.join([lemmatizer.lemmatize(word) for word in text.split()])\n",
    "\n",
    "train_df['text'] = train_df['text'].apply(lambda text: lemmatize_words(text))\n",
    "test_df['text'] = test_df['text'].apply(lambda text: lemmatize_words(text))\n",
    "train_df.head()"
   ]
  },
  {
   "cell_type": "code",
   "execution_count": 26,
   "id": "8e0506a8",
   "metadata": {
    "execution": {
     "iopub.execute_input": "2022-03-16T18:12:45.272601Z",
     "iopub.status.busy": "2022-03-16T18:12:45.272104Z",
     "iopub.status.idle": "2022-03-16T18:12:45.275432Z",
     "shell.execute_reply": "2022-03-16T18:12:45.274855Z",
     "shell.execute_reply.started": "2022-03-16T18:11:14.301594Z"
    },
    "papermill": {
     "duration": 0.047502,
     "end_time": "2022-03-16T18:12:45.275546",
     "exception": false,
     "start_time": "2022-03-16T18:12:45.228044",
     "status": "completed"
    },
    "tags": []
   },
   "outputs": [],
   "source": [
    "# tfidf_count_vectorizer = feature_extraction.text.TfidfVectorizer()"
   ]
  },
  {
   "cell_type": "code",
   "execution_count": 27,
   "id": "aac1ea87",
   "metadata": {
    "execution": {
     "iopub.execute_input": "2022-03-16T18:12:45.361191Z",
     "iopub.status.busy": "2022-03-16T18:12:45.360455Z",
     "iopub.status.idle": "2022-03-16T18:12:45.362798Z",
     "shell.execute_reply": "2022-03-16T18:12:45.362413Z",
     "shell.execute_reply.started": "2022-03-16T18:11:14.309381Z"
    },
    "papermill": {
     "duration": 0.046149,
     "end_time": "2022-03-16T18:12:45.362903",
     "exception": false,
     "start_time": "2022-03-16T18:12:45.316754",
     "status": "completed"
    },
    "tags": []
   },
   "outputs": [],
   "source": [
    "# train_vectors = tfidf_count_vectorizer.fit_transform(train_df['text'])\n",
    "# test_vectors = tfidf_count_vectorizer.transform(test_df['text'])"
   ]
  },
  {
   "cell_type": "code",
   "execution_count": 28,
   "id": "bec628d7",
   "metadata": {
    "execution": {
     "iopub.execute_input": "2022-03-16T18:12:45.448359Z",
     "iopub.status.busy": "2022-03-16T18:12:45.447365Z",
     "iopub.status.idle": "2022-03-16T18:12:45.449590Z",
     "shell.execute_reply": "2022-03-16T18:12:45.450047Z",
     "shell.execute_reply.started": "2022-03-16T18:11:14.324182Z"
    },
    "papermill": {
     "duration": 0.046442,
     "end_time": "2022-03-16T18:12:45.450173",
     "exception": false,
     "start_time": "2022-03-16T18:12:45.403731",
     "status": "completed"
    },
    "tags": []
   },
   "outputs": [],
   "source": [
    "count_vectorizer = feature_extraction.text.CountVectorizer()"
   ]
  },
  {
   "cell_type": "code",
   "execution_count": 29,
   "id": "894ebf7d",
   "metadata": {
    "execution": {
     "iopub.execute_input": "2022-03-16T18:12:45.565029Z",
     "iopub.status.busy": "2022-03-16T18:12:45.554675Z",
     "iopub.status.idle": "2022-03-16T18:12:45.696657Z",
     "shell.execute_reply": "2022-03-16T18:12:45.696192Z",
     "shell.execute_reply.started": "2022-03-16T18:11:14.334530Z"
    },
    "papermill": {
     "duration": 0.205535,
     "end_time": "2022-03-16T18:12:45.696772",
     "exception": false,
     "start_time": "2022-03-16T18:12:45.491237",
     "status": "completed"
    },
    "tags": []
   },
   "outputs": [],
   "source": [
    "train_vectors = count_vectorizer.fit_transform(train_df['text'])\n",
    "test_vectors = count_vectorizer.transform(test_df['text'])"
   ]
  },
  {
   "cell_type": "code",
   "execution_count": 30,
   "id": "68b3c1a1",
   "metadata": {
    "execution": {
     "iopub.execute_input": "2022-03-16T18:12:45.785192Z",
     "iopub.status.busy": "2022-03-16T18:12:45.784434Z",
     "iopub.status.idle": "2022-03-16T18:12:45.786850Z",
     "shell.execute_reply": "2022-03-16T18:12:45.786431Z",
     "shell.execute_reply.started": "2022-03-16T18:11:14.536602Z"
    },
    "papermill": {
     "duration": 0.047027,
     "end_time": "2022-03-16T18:12:45.786971",
     "exception": false,
     "start_time": "2022-03-16T18:12:45.739944",
     "status": "completed"
    },
    "tags": []
   },
   "outputs": [],
   "source": [
    "# nb>lr>rc>rf (scores)"
   ]
  },
  {
   "cell_type": "code",
   "execution_count": 31,
   "id": "825f83a4",
   "metadata": {
    "execution": {
     "iopub.execute_input": "2022-03-16T18:12:45.872812Z",
     "iopub.status.busy": "2022-03-16T18:12:45.872050Z",
     "iopub.status.idle": "2022-03-16T18:12:45.873993Z",
     "shell.execute_reply": "2022-03-16T18:12:45.874397Z",
     "shell.execute_reply.started": "2022-03-16T18:11:14.545650Z"
    },
    "papermill": {
     "duration": 0.046843,
     "end_time": "2022-03-16T18:12:45.874521",
     "exception": false,
     "start_time": "2022-03-16T18:12:45.827678",
     "status": "completed"
    },
    "tags": []
   },
   "outputs": [],
   "source": [
    "rc = linear_model.RidgeClassifier()"
   ]
  },
  {
   "cell_type": "code",
   "execution_count": 32,
   "id": "c4b4af46",
   "metadata": {
    "execution": {
     "iopub.execute_input": "2022-03-16T18:12:45.959280Z",
     "iopub.status.busy": "2022-03-16T18:12:45.958467Z",
     "iopub.status.idle": "2022-03-16T18:12:45.962501Z",
     "shell.execute_reply": "2022-03-16T18:12:45.962030Z",
     "shell.execute_reply.started": "2022-03-16T18:11:14.556610Z"
    },
    "papermill": {
     "duration": 0.046759,
     "end_time": "2022-03-16T18:12:45.962616",
     "exception": false,
     "start_time": "2022-03-16T18:12:45.915857",
     "status": "completed"
    },
    "tags": []
   },
   "outputs": [],
   "source": [
    "lr = linear_model.LogisticRegression()"
   ]
  },
  {
   "cell_type": "code",
   "execution_count": 33,
   "id": "08d8e481",
   "metadata": {
    "execution": {
     "iopub.execute_input": "2022-03-16T18:12:46.047845Z",
     "iopub.status.busy": "2022-03-16T18:12:46.047098Z",
     "iopub.status.idle": "2022-03-16T18:12:46.050763Z",
     "shell.execute_reply": "2022-03-16T18:12:46.050358Z",
     "shell.execute_reply.started": "2022-03-16T18:11:14.567306Z"
    },
    "papermill": {
     "duration": 0.046785,
     "end_time": "2022-03-16T18:12:46.050860",
     "exception": false,
     "start_time": "2022-03-16T18:12:46.004075",
     "status": "completed"
    },
    "tags": []
   },
   "outputs": [],
   "source": [
    "nb = naive_bayes.MultinomialNB()"
   ]
  },
  {
   "cell_type": "code",
   "execution_count": 34,
   "id": "8c44a137",
   "metadata": {
    "execution": {
     "iopub.execute_input": "2022-03-16T18:12:46.137698Z",
     "iopub.status.busy": "2022-03-16T18:12:46.137080Z",
     "iopub.status.idle": "2022-03-16T18:12:46.139234Z",
     "shell.execute_reply": "2022-03-16T18:12:46.139633Z",
     "shell.execute_reply.started": "2022-03-16T18:11:14.577331Z"
    },
    "papermill": {
     "duration": 0.047057,
     "end_time": "2022-03-16T18:12:46.139746",
     "exception": false,
     "start_time": "2022-03-16T18:12:46.092689",
     "status": "completed"
    },
    "tags": []
   },
   "outputs": [],
   "source": [
    "rf = ensemble.RandomForestClassifier(n_estimators=100)"
   ]
  },
  {
   "cell_type": "code",
   "execution_count": 35,
   "id": "dfe854cc",
   "metadata": {
    "execution": {
     "iopub.execute_input": "2022-03-16T18:12:46.225621Z",
     "iopub.status.busy": "2022-03-16T18:12:46.224973Z",
     "iopub.status.idle": "2022-03-16T18:12:46.249288Z",
     "shell.execute_reply": "2022-03-16T18:12:46.249720Z",
     "shell.execute_reply.started": "2022-03-16T18:11:14.588342Z"
    },
    "papermill": {
     "duration": 0.069359,
     "end_time": "2022-03-16T18:12:46.249841",
     "exception": false,
     "start_time": "2022-03-16T18:12:46.180482",
     "status": "completed"
    },
    "tags": []
   },
   "outputs": [
    {
     "data": {
      "text/plain": [
       "array([0.67419962, 0.6523266 , 0.72003353])"
      ]
     },
     "execution_count": 35,
     "metadata": {},
     "output_type": "execute_result"
    }
   ],
   "source": [
    "scores = model_selection.cross_val_score(nb, train_vectors, train_df['target'], cv=3, scoring='f1')\n",
    "scores"
   ]
  },
  {
   "cell_type": "code",
   "execution_count": 36,
   "id": "72d46bb5",
   "metadata": {
    "execution": {
     "iopub.execute_input": "2022-03-16T18:12:46.338468Z",
     "iopub.status.busy": "2022-03-16T18:12:46.337978Z",
     "iopub.status.idle": "2022-03-16T18:12:46.347064Z",
     "shell.execute_reply": "2022-03-16T18:12:46.346619Z",
     "shell.execute_reply.started": "2022-03-16T18:11:14.624856Z"
    },
    "papermill": {
     "duration": 0.053552,
     "end_time": "2022-03-16T18:12:46.347171",
     "exception": false,
     "start_time": "2022-03-16T18:12:46.293619",
     "status": "completed"
    },
    "tags": []
   },
   "outputs": [
    {
     "data": {
      "text/plain": [
       "MultinomialNB()"
      ]
     },
     "execution_count": 36,
     "metadata": {},
     "output_type": "execute_result"
    }
   ],
   "source": [
    "nb.fit(train_vectors, train_df[\"target\"])"
   ]
  },
  {
   "cell_type": "code",
   "execution_count": 37,
   "id": "ca042fc5",
   "metadata": {
    "execution": {
     "iopub.execute_input": "2022-03-16T18:12:46.437018Z",
     "iopub.status.busy": "2022-03-16T18:12:46.436142Z",
     "iopub.status.idle": "2022-03-16T18:12:46.444670Z",
     "shell.execute_reply": "2022-03-16T18:12:46.445104Z",
     "shell.execute_reply.started": "2022-03-16T18:11:14.640798Z"
    },
    "papermill": {
     "duration": 0.054126,
     "end_time": "2022-03-16T18:12:46.445225",
     "exception": false,
     "start_time": "2022-03-16T18:12:46.391099",
     "status": "completed"
    },
    "tags": []
   },
   "outputs": [],
   "source": [
    "sample_submission = pd.read_csv(\"../input/dataset/sample_submission.csv\")"
   ]
  },
  {
   "cell_type": "code",
   "execution_count": 38,
   "id": "869e8aff",
   "metadata": {
    "execution": {
     "iopub.execute_input": "2022-03-16T18:12:46.534225Z",
     "iopub.status.busy": "2022-03-16T18:12:46.533456Z",
     "iopub.status.idle": "2022-03-16T18:12:46.536279Z",
     "shell.execute_reply": "2022-03-16T18:12:46.536686Z",
     "shell.execute_reply.started": "2022-03-16T18:11:14.653425Z"
    },
    "papermill": {
     "duration": 0.048916,
     "end_time": "2022-03-16T18:12:46.536802",
     "exception": false,
     "start_time": "2022-03-16T18:12:46.487886",
     "status": "completed"
    },
    "tags": []
   },
   "outputs": [],
   "source": [
    "sample_submission[\"target\"] = nb.predict(test_vectors)"
   ]
  },
  {
   "cell_type": "code",
   "execution_count": 39,
   "id": "d73b78d2",
   "metadata": {
    "execution": {
     "iopub.execute_input": "2022-03-16T18:12:46.624639Z",
     "iopub.status.busy": "2022-03-16T18:12:46.624033Z",
     "iopub.status.idle": "2022-03-16T18:12:46.633234Z",
     "shell.execute_reply": "2022-03-16T18:12:46.632779Z",
     "shell.execute_reply.started": "2022-03-16T18:11:14.662824Z"
    },
    "papermill": {
     "duration": 0.053811,
     "end_time": "2022-03-16T18:12:46.633339",
     "exception": false,
     "start_time": "2022-03-16T18:12:46.579528",
     "status": "completed"
    },
    "tags": []
   },
   "outputs": [],
   "source": [
    "sample_submission.to_csv(\"submission.csv\", index=False)"
   ]
  },
  {
   "cell_type": "code",
   "execution_count": null,
   "id": "47ea7a0c",
   "metadata": {
    "papermill": {
     "duration": 0.041553,
     "end_time": "2022-03-16T18:12:46.716709",
     "exception": false,
     "start_time": "2022-03-16T18:12:46.675156",
     "status": "completed"
    },
    "tags": []
   },
   "outputs": [],
   "source": []
  }
 ],
 "metadata": {
  "kernelspec": {
   "display_name": "Python 3",
   "language": "python",
   "name": "python3"
  },
  "language_info": {
   "codemirror_mode": {
    "name": "ipython",
    "version": 3
   },
   "file_extension": ".py",
   "mimetype": "text/x-python",
   "name": "python",
   "nbconvert_exporter": "python",
   "pygments_lexer": "ipython3",
   "version": "3.7.12"
  },
  "papermill": {
   "default_parameters": {},
   "duration": 33.598181,
   "end_time": "2022-03-16T18:12:47.596378",
   "environment_variables": {},
   "exception": null,
   "input_path": "__notebook__.ipynb",
   "output_path": "__notebook__.ipynb",
   "parameters": {},
   "start_time": "2022-03-16T18:12:13.998197",
   "version": "2.3.3"
  }
 },
 "nbformat": 4,
 "nbformat_minor": 5
}
